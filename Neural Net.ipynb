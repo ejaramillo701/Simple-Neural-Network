{
 "cells": [
  {
   "cell_type": "code",
   "execution_count": 160,
   "metadata": {},
   "outputs": [],
   "source": [
    "import numpy as np\n",
    "import random \n",
    "import time"
   ]
  },
  {
   "cell_type": "markdown",
   "metadata": {},
   "source": [
    "# 0. Preliminaries "
   ]
  },
  {
   "cell_type": "code",
   "execution_count": 342,
   "metadata": {},
   "outputs": [],
   "source": [
    "def sigmoid(x):\n",
    "    return 1/(np.exp(-np.array(x))+1)\n",
    "\n",
    "def dsigmoid(x):\n",
    "    return sigmoid(x)*(1-sigmoid(x))\n",
    "\n",
    "def convert_pred(y):\n",
    "    \"\"\"\n",
    "    given an array y, returns an array with the same shape and all zeros except\n",
    "    a single 1 at the index where y attains its maximum value\n",
    "    \"\"\"\n",
    "    new_y = np.zeros(y.shape)\n",
    "    max_ind = np.where(y==max(y))\n",
    "    new_y[max_ind] = 1\n",
    "    return new_y"
   ]
  },
  {
   "cell_type": "code",
   "execution_count": 343,
   "metadata": {},
   "outputs": [
    {
     "data": {
      "text/plain": [
       "array([0.00669285, 0.5       , 0.99330715])"
      ]
     },
     "execution_count": 343,
     "metadata": {},
     "output_type": "execute_result"
    }
   ],
   "source": [
    "sigmoid([-5,0,5])"
   ]
  },
  {
   "cell_type": "code",
   "execution_count": 344,
   "metadata": {},
   "outputs": [
    {
     "data": {
      "text/plain": [
       "array([0.00664806, 0.25      , 0.00664806])"
      ]
     },
     "execution_count": 344,
     "metadata": {},
     "output_type": "execute_result"
    }
   ],
   "source": [
    "dsigmoid([-5,0,5])"
   ]
  },
  {
   "cell_type": "code",
   "execution_count": 346,
   "metadata": {},
   "outputs": [
    {
     "name": "stdout",
     "output_type": "stream",
     "text": [
      "[[-0.89638585]\n",
      " [-0.48789934]\n",
      " [-1.41876809]\n",
      " [-0.20277104]\n",
      " [ 0.32719624]]\n"
     ]
    },
    {
     "data": {
      "text/plain": [
       "array([[0.],\n",
       "       [0.],\n",
       "       [0.],\n",
       "       [0.],\n",
       "       [1.]])"
      ]
     },
     "execution_count": 346,
     "metadata": {},
     "output_type": "execute_result"
    }
   ],
   "source": [
    "v = np.random.randn(5, 1)\n",
    "print(v)\n",
    "convert_pred(v)"
   ]
  },
  {
   "cell_type": "markdown",
   "metadata": {},
   "source": [
    "# 1. Building a Simple Neural Network"
   ]
  },
  {
   "cell_type": "code",
   "execution_count": 1,
   "metadata": {},
   "outputs": [],
   "source": [
    "class ANN(object):\n",
    "\n",
    "    def __init__(self,layers):\n",
    "        \"\"\"\n",
    "        layers should be a list of the number of nodes in each layer.\n",
    "        For example, if layers = [10,20,3] the network will have an input layer\n",
    "        with 10 nodes, a hidden layer with 20 nodes, and an output layer with 3 nodes\n",
    "\n",
    "        by default the activation function is the sigmoid and the cost function\n",
    "        is squared-error\n",
    "\n",
    "        We randomly generate our initial biases and weights using a standard\n",
    "        normal distribution.\n",
    "        \"\"\"\n",
    "        self.num_layers = len(layers)\n",
    "        self.layers = layers\n",
    "\n",
    "        self.bias = [np.random.randn(y, 1) for y in layers[1:]]\n",
    "        \"\"\"\n",
    "        self.weights is an array of matrices; self.weights[i] is\n",
    "        the weight matrix between layers i+1 and i+2, where the k-th column\n",
    "        contains the weights corresponding to the k-th neuron in layer i+1\n",
    "        \"\"\"\n",
    "        self.weights = [np.random.randn(y,x) for x,y in zip(layers[:-1], layers[1:])]\n",
    "\n",
    "    def reset_weights(self):\n",
    "        self.bias = [np.random.randn(y, 1) for y in self.layers[1:]]\n",
    "        self.weights = [np.random.randn(y,x) for x,y in zip(self.layers[:-1], self.layers[1:])]\n",
    "\n",
    "    def evaluate(self,a):\n",
    "        \"\"\"\n",
    "        returns the output of the network for given input array \"a\"\n",
    "        \"\"\"\n",
    "        for b,w in zip(self.bias, self.weights):\n",
    "            a = sigmoid(np.dot(w,a)+b)\n",
    "        return a\n",
    "\n",
    "    def backprop(self,x,y):\n",
    "        \"\"\"\"\n",
    "        performs backpropogation based on a point, x, and the\n",
    "        corresponding desired output, y;\n",
    "\n",
    "        explicitly, we compute the \"error derivatives\" for the weights and biases,\n",
    "        which we return as a tuple (grad_b,grad_w);\n",
    "        \n",
    "        these will then be averaged and scaled in the train loop, and the network's\n",
    "        weights/bias will be adjusted accordingly\n",
    "        \"\"\"\n",
    "        grad_b = [np.zeros(b.shape) for b in self.bias]\n",
    "        grad_w = [np.zeros(w.shape) for w in self.weights]\n",
    "        a_l = np.array(x)\n",
    "        a = [a_l]\n",
    "        zs = []\n",
    "        Ds = []\n",
    "        for b,w in zip(self.bias, self.weights):\n",
    "            z_l = np.dot(w,a_l)+b\n",
    "            zs.append(z_l)\n",
    "            a_l = sigmoid(z_l)\n",
    "            a.append(a_l)\n",
    "            d_l = np.diag(dsigmoid(z_l).squeeze())\n",
    "            Ds.append(d_l)\n",
    "        delta_l = np.dot(Ds[-1],(a[-1]-y))\n",
    "        grad_b[-1] = delta_l\n",
    "        grad_w[-1] = np.dot(delta_l, a[-2].transpose())\n",
    "        for k in range(2,self.num_layers):\n",
    "            delta_l = np.dot(np.dot(Ds[-k],self.weights[-k+1].transpose()), delta_l)\n",
    "            grad_b[-k] = delta_l\n",
    "            grad_w[-k] = np.dot(delta_l, a[-k-1].transpose())\n",
    "        return (grad_b,grad_w)\n",
    "        \n",
    "    def train(self,X,Y,m,eta,N):\n",
    "        \"\"\"\n",
    "        Performs SGD to train the network\n",
    "\n",
    "        X = training data, stored as n1 x n2 array, where each column is a data\n",
    "            point in R^n1 and we have n2 many points\n",
    "        Y = desired output matrix; for classification should be\n",
    "            num_classes x n2\n",
    "        m = sample size at each step of SGD\n",
    "        eta = step size\n",
    "        N = max number of iterations/ steps\n",
    "        \"\"\"\n",
    "        start = time.time()\n",
    "        num_col = X.shape[1]\n",
    "        count = 0\n",
    "        while count <= N:\n",
    "            sample = random.choices(range(num_col),k=m)\n",
    "            xs = X[:,sample]\n",
    "            ys = Y[:,sample]\n",
    "            delta_b = [np.zeros(b.shape) for b in self.bias]\n",
    "            delta_w = [np.zeros(w.shape) for w in self.weights]\n",
    "            for i in range(m):\n",
    "                x = np.array([xs[:,i]]).transpose()\n",
    "                y = np.array([ys[:,i]]).transpose()\n",
    "                delta_bi, delta_wi = self.backprop(x,y)\n",
    "                delta_b = [db+dbi for db, dbi in zip(delta_b, delta_bi)]\n",
    "                delta_w = [dw+dwi for dw, dwi in zip(delta_w, delta_wi)]\n",
    "            self.weights = [w-(eta/m)*dw\n",
    "                        for w, dw in zip(self.weights, delta_w)]\n",
    "            self.bias = [b-(eta/m)*db\n",
    "                        for b, db in zip(self.bias, delta_b)]\n",
    "            count += 1\n",
    "        end = time.time()\n",
    "        print('Training Complete!')\n",
    "        print('Training took:',end-start, 'seconds')\n",
    "        \n",
    "    def test(self,X,Y):\n",
    "        num_col = X.shape[1]\n",
    "        answers = []\n",
    "        for i in range(num_col):\n",
    "            x = np.array([X[:,i]]).transpose()\n",
    "            y = np.array([Y[:,i]]).transpose()\n",
    "            pred = convert_pred(self.evaluate(x))\n",
    "            if np.array_equal(y,pred):\n",
    "                answers.append(1)\n",
    "            else:\n",
    "                answers.append(0)\n",
    "        num_right = np.count_nonzero(answers)\n",
    "        print('Correctly labeled:', num_right, 'out of', num_col)\n",
    "        print('Percent correct:')\n",
    "        return np.mean(answers)"
   ]
  },
  {
   "cell_type": "markdown",
   "metadata": {},
   "source": [
    "## 1.1 Sanity check with simple network"
   ]
  },
  {
   "cell_type": "code",
   "execution_count": 249,
   "metadata": {},
   "outputs": [
    {
     "data": {
      "text/plain": [
       "([array([[ 1.12804759,  0.71034447, -0.7383178 ],\n",
       "         [-1.37529235, -1.40485457, -0.20115506],\n",
       "         [-0.14918814,  0.96543908, -1.24175797]]),\n",
       "  array([[ 0.93998002,  2.10772453,  0.26393845],\n",
       "         [-0.31251516, -0.21981194,  0.74692099]])],\n",
       " [array([[ 1.38573518],\n",
       "         [ 0.25474454],\n",
       "         [-0.09901529]]), array([[-0.51679172],\n",
       "         [-1.7081359 ]])])"
      ]
     },
     "execution_count": 249,
     "metadata": {},
     "output_type": "execute_result"
    }
   ],
   "source": [
    "net1 = ANN([3,3,2])\n",
    "net1.weights, net1.bias"
   ]
  },
  {
   "cell_type": "code",
   "execution_count": 244,
   "metadata": {},
   "outputs": [
    {
     "data": {
      "text/plain": [
       "(array([[0.77648597, 0.7411779 , 0.17802696, 0.92578097, 0.36379315],\n",
       "        [0.75209732, 0.56524242, 0.86666721, 0.16185724, 0.08318662],\n",
       "        [0.16165096, 0.1392571 , 0.502317  , 0.735557  , 0.15841952]]),\n",
       " array([[1, 1, 1, 1, 0],\n",
       "        [0, 0, 0, 0, 1]]))"
      ]
     },
     "execution_count": 244,
     "metadata": {},
     "output_type": "execute_result"
    }
   ],
   "source": [
    "X = np.random.rand(3,5)\n",
    "Y = np.array([[1,1,1,1,0],[0,0,0,0,1]])\n",
    "X,Y"
   ]
  },
  {
   "cell_type": "code",
   "execution_count": 251,
   "metadata": {},
   "outputs": [
    {
     "data": {
      "text/plain": [
       "array([[0.77654532],\n",
       "       [0.14943627]])"
      ]
     },
     "execution_count": 251,
     "metadata": {},
     "output_type": "execute_result"
    }
   ],
   "source": [
    "net1.evaluate(x2)"
   ]
  },
  {
   "cell_type": "code",
   "execution_count": 252,
   "metadata": {},
   "outputs": [
    {
     "name": "stdout",
     "output_type": "stream",
     "text": [
      "Training Complete!\n",
      "Training took: 0.41200876235961914 seconds\n"
     ]
    }
   ],
   "source": [
    "net1.train(X,Y,1,0.8,5000)"
   ]
  },
  {
   "cell_type": "code",
   "execution_count": 253,
   "metadata": {},
   "outputs": [
    {
     "data": {
      "text/plain": [
       "(array([[0.99043724],\n",
       "        [0.00913529]]), array([[0.03537443],\n",
       "        [0.9662589 ]]))"
      ]
     },
     "execution_count": 253,
     "metadata": {},
     "output_type": "execute_result"
    }
   ],
   "source": [
    "x1 =np.array([X[:,0]]).transpose()\n",
    "x2 =np.array([X[:,4]]).transpose()\n",
    "net1.evaluate(x1), net1.evaluate(x2),"
   ]
  },
  {
   "cell_type": "markdown",
   "metadata": {},
   "source": [
    "# 2. Preparing the Data"
   ]
  },
  {
   "cell_type": "code",
   "execution_count": 40,
   "metadata": {},
   "outputs": [],
   "source": [
    "import gzip"
   ]
  },
  {
   "cell_type": "markdown",
   "metadata": {},
   "source": [
    "## 2.1 Importing Image Data"
   ]
  },
  {
   "cell_type": "code",
   "execution_count": 350,
   "metadata": {},
   "outputs": [
    {
     "name": "stdout",
     "output_type": "stream",
     "text": [
      "train_data type: <class 'numpy.ndarray'>\n",
      "train_data shape: (47040000,)\n",
      "train_data shape: (60000, 28, 28)\n",
      "first training image shape: (28, 28)\n"
     ]
    }
   ],
   "source": [
    "\"create a file object with our data\"\n",
    "f = gzip.open('train-images-idx3-ubyte.gz','r')\n",
    "\n",
    "image_size = 28\n",
    "num_images = 60000\n",
    "\n",
    "\"Need to skip first few entries which are zero\"\n",
    "f.read(16)\n",
    "\n",
    "\"Make a buffer of the content, then convert that to a numpy array\"\n",
    "buf = f.read(image_size * image_size * num_images)\n",
    "train_data = np.frombuffer(buf, dtype=np.uint8)\n",
    "print('train_data type:',type(train_data))\n",
    "print('train_data shape:',train_data.shape)\n",
    "\n",
    "\"Reshape array \"\n",
    "train_data = train_data.reshape(num_images, image_size, image_size)\n",
    "print('train_data shape:',train_data.shape)\n",
    "print('first training image shape:',train_data[0].shape)"
   ]
  },
  {
   "cell_type": "code",
   "execution_count": 351,
   "metadata": {},
   "outputs": [
    {
     "data": {
      "image/png": "[encoded data removed]",
      "text/plain": [
       "<Figure size 432x288 with 1 Axes>"
      ]
     },
     "metadata": {
      "needs_background": "light"
     },
     "output_type": "display_data"
    }
   ],
   "source": [
    "import matplotlib.pyplot as plt\n",
    "\n",
    "image = train_data[0]\n",
    "plt.imshow(image)\n",
    "plt.show()"
   ]
  },
  {
   "cell_type": "code",
   "execution_count": 43,
   "metadata": {},
   "outputs": [
    {
     "name": "stdout",
     "output_type": "stream",
     "text": [
      "test_data type: <class 'numpy.ndarray'>\n",
      "test_data shape: (7840000,)\n",
      "test_data shape: (10000, 28, 28)\n",
      "first test image shape: (28, 28)\n"
     ]
    }
   ],
   "source": [
    "f = gzip.open('t10k-images-idx3-ubyte.gz','r')\n",
    "\n",
    "image_size = 28\n",
    "num_images = 10000\n",
    "\n",
    "f.read(16)\n",
    "\n",
    "buf = f.read(image_size * image_size * num_images)\n",
    "test_data = np.frombuffer(buf, dtype=np.uint8)\n",
    "print('test_data type:',type(test_data))\n",
    "print('test_data shape:',test_data.shape)\n",
    "\n",
    "test_data = test_data.reshape(num_images, image_size, image_size)\n",
    "print('test_data shape:',test_data.shape)\n",
    "print('first test image shape:',test_data[0].shape)"
   ]
  },
  {
   "cell_type": "code",
   "execution_count": 44,
   "metadata": {},
   "outputs": [
    {
     "data": {
      "image/png": "[encoded data removed]",
      "text/plain": [
       "<Figure size 432x288 with 1 Axes>"
      ]
     },
     "metadata": {
      "needs_background": "light"
     },
     "output_type": "display_data"
    }
   ],
   "source": [
    "image = test_data[0]\n",
    "plt.imshow(image)\n",
    "plt.show()"
   ]
  },
  {
   "cell_type": "markdown",
   "metadata": {},
   "source": [
    "## 2.2 Importing the Labels"
   ]
  },
  {
   "cell_type": "code",
   "execution_count": 89,
   "metadata": {},
   "outputs": [
    {
     "name": "stdout",
     "output_type": "stream",
     "text": [
      "train_labels shape: (60000,)\n",
      "first training image label: 5\n"
     ]
    }
   ],
   "source": [
    "f = gzip.open('train-labels-idx1-ubyte.gz','r')\n",
    "f.read(8)\n",
    "buf = f.read(60000)\n",
    "train_labels = np.frombuffer(buf, dtype=np.uint8)\n",
    "print('train_labels shape:',train_labels.shape)\n",
    "# Should print a 5\n",
    "print('first training image label:',train_labels[0])"
   ]
  },
  {
   "cell_type": "code",
   "execution_count": 90,
   "metadata": {},
   "outputs": [
    {
     "name": "stdout",
     "output_type": "stream",
     "text": [
      "test_labels shape: (10000,)\n",
      "first test image label: 7\n"
     ]
    }
   ],
   "source": [
    "f = gzip.open('t10k-labels-idx1-ubyte.gz','r')\n",
    "f.read(8)\n",
    "buf = f.read(10000)\n",
    "test_labels = np.frombuffer(buf, dtype=np.uint8)\n",
    "print('test_labels shape:',test_labels.shape)\n",
    "# Should print a 7\n",
    "print('first test image label:',test_labels[0])"
   ]
  },
  {
   "cell_type": "markdown",
   "metadata": {},
   "source": [
    "## 2.3 Vectorize Data"
   ]
  },
  {
   "cell_type": "code",
   "execution_count": 116,
   "metadata": {},
   "outputs": [],
   "source": [
    "def vectorize_data(data):\n",
    "    return np.array([data[i].ravel() for i in range(len(data))]).transpose()"
   ]
  },
  {
   "cell_type": "code",
   "execution_count": 117,
   "metadata": {},
   "outputs": [],
   "source": [
    "def vectorize_labels(labels,n):\n",
    "    # n = largest number in labels, all labels assumed to be non-negative integers\n",
    "    vlabels = []\n",
    "    for i in range(len(labels)):\n",
    "        label = labels[i]\n",
    "        v = np.zeros((n,1))\n",
    "        v[label] = 1\n",
    "        vlabels.append(v)\n",
    "    return np.array(vlabels).squeeze().transpose()"
   ]
  },
  {
   "cell_type": "code",
   "execution_count": 118,
   "metadata": {},
   "outputs": [
    {
     "data": {
      "text/plain": [
       "(784, 60000)"
      ]
     },
     "execution_count": 118,
     "metadata": {},
     "output_type": "execute_result"
    }
   ],
   "source": [
    "vdata = vectorize_data(train_data)\n",
    "vdata.shape"
   ]
  },
  {
   "cell_type": "code",
   "execution_count": 119,
   "metadata": {},
   "outputs": [
    {
     "data": {
      "text/plain": [
       "(10, 60000)"
      ]
     },
     "execution_count": 119,
     "metadata": {},
     "output_type": "execute_result"
    }
   ],
   "source": [
    "vlabels = vectorize_labels(train_labels,10)\n",
    "vlabels.shape"
   ]
  },
  {
   "cell_type": "code",
   "execution_count": 120,
   "metadata": {},
   "outputs": [
    {
     "data": {
      "text/plain": [
       "array([0., 0., 0., 0., 0., 1., 0., 0., 0., 0.])"
      ]
     },
     "execution_count": 120,
     "metadata": {},
     "output_type": "execute_result"
    }
   ],
   "source": [
    "# Should have 1 in position 5\n",
    "vlabels[:,0]"
   ]
  },
  {
   "cell_type": "markdown",
   "metadata": {},
   "source": [
    "# 3. Training/ Testing the Network"
   ]
  },
  {
   "cell_type": "markdown",
   "metadata": {},
   "source": [
    "I found two hidden layers with 69 nodes each seems to work quite well."
   ]
  },
  {
   "cell_type": "code",
   "execution_count": 314,
   "metadata": {},
   "outputs": [
    {
     "name": "stdout",
     "output_type": "stream",
     "text": [
      "Training Complete!\n",
      "Training took: 2402.285432100296 seconds\n"
     ]
    }
   ],
   "source": [
    "trainX = vectorize_data(train_data)\n",
    "trainY = vectorize_labels(train_labels,10)\n",
    "\n",
    "network = ANN([784,69,69,10])\n",
    "network.train(trainX,trainY,10,0.01,1000000)"
   ]
  },
  {
   "cell_type": "code",
   "execution_count": 315,
   "metadata": {},
   "outputs": [
    {
     "name": "stdout",
     "output_type": "stream",
     "text": [
      "Correctly labeled: 54527 out of 60000\n",
      "Percent correct:\n"
     ]
    },
    {
     "data": {
      "text/plain": [
       "0.9087833333333334"
      ]
     },
     "execution_count": 315,
     "metadata": {},
     "output_type": "execute_result"
    }
   ],
   "source": [
    "testX = vectorize_data(test_data)\n",
    "testY = vectorize_labels(test_labels,10)\n",
    "\n",
    "network.test(trainX,trainY)"
   ]
  },
  {
   "cell_type": "code",
   "execution_count": 317,
   "metadata": {},
   "outputs": [
    {
     "name": "stdout",
     "output_type": "stream",
     "text": [
      "Correctly labeled: 9026 out of 10000\n",
      "Percent correct:\n"
     ]
    },
    {
     "data": {
      "text/plain": [
       "0.9026"
      ]
     },
     "execution_count": 317,
     "metadata": {},
     "output_type": "execute_result"
    }
   ],
   "source": [
    "network.test(testX,testY)"
   ]
  },
  {
   "cell_type": "markdown",
   "metadata": {},
   "source": [
    "If we try to do better by descreasing eta and increasing the number of iterations, we improve significantly on the training set but less so on the test set. As a result I think the other hyperparameters are a better choice to avoid overfitting."
   ]
  },
  {
   "cell_type": "code",
   "execution_count": 338,
   "metadata": {},
   "outputs": [
    {
     "name": "stdout",
     "output_type": "stream",
     "text": [
      "Training Complete!\n",
      "Training took: 11455.213525056839 seconds\n"
     ]
    }
   ],
   "source": [
    "net2 = ANN([784,69,69,10])\n",
    "net2.train(trainX,trainY,10,0.005,5*10**6)"
   ]
  },
  {
   "cell_type": "code",
   "execution_count": 339,
   "metadata": {},
   "outputs": [
    {
     "name": "stdout",
     "output_type": "stream",
     "text": [
      "Correctly labeled: 56492 out of 60000\n",
      "Percent correct:\n"
     ]
    },
    {
     "data": {
      "text/plain": [
       "0.9415333333333333"
      ]
     },
     "execution_count": 339,
     "metadata": {},
     "output_type": "execute_result"
    }
   ],
   "source": [
    "net2.test(trainX,trainY)"
   ]
  },
  {
   "cell_type": "code",
   "execution_count": 347,
   "metadata": {},
   "outputs": [
    {
     "name": "stdout",
     "output_type": "stream",
     "text": [
      "Correctly labeled: 9162 out of 10000\n",
      "Percent correct:\n"
     ]
    },
    {
     "data": {
      "text/plain": [
       "0.9162"
      ]
     },
     "execution_count": 347,
     "metadata": {},
     "output_type": "execute_result"
    }
   ],
   "source": [
    "net2.test(testX,testY)"
   ]
  },
  {
   "cell_type": "code",
   "execution_count": null,
   "metadata": {},
   "outputs": [],
   "source": []
  }
 ],
 "metadata": {
  "kernelspec": {
   "display_name": "Python 3",
   "language": "python",
   "name": "python3"
  },
  "language_info": {
   "codemirror_mode": {
    "name": "ipython",
    "version": 3
   },
   "file_extension": ".py",
   "mimetype": "text/x-python",
   "name": "python",
   "nbconvert_exporter": "python",
   "pygments_lexer": "ipython3",
   "version": "3.7.3"
  }
 },
 "nbformat": 4,
 "nbformat_minor": 2
}
